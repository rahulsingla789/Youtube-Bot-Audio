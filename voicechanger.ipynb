{
 "cells": [
  {
   "cell_type": "code",
   "execution_count": 1,
   "metadata": {},
   "outputs": [
    {
     "ename": "",
     "evalue": "",
     "output_type": "error",
     "traceback": [
      "\u001b[1;31mThe Kernel crashed while executing code in the the current cell or a previous cell. Please review the code in the cell(s) to identify a possible cause of the failure. Click <a href='https://aka.ms/vscodeJupyterKernelCrash'>here</a> for more info. View Jupyter <a href='command:jupyter.viewOutput'>log</a> for further details."
     ]
    }
   ],
   "source": [
    "import subprocess\n",
    "import pygetwindow as gw\n",
    "import time\n",
    "import os\n",
    "from nbconvert.preprocessors import ExecutePreprocessor\n",
    "from nbformat import read\n",
    "\n",
    "# Function to execute a specific Jupyter Notebook cell\n",
    "def execute_notebook_cell(notebook_path, cell_index):\n",
    "    with open(notebook_path, 'r') as f:\n",
    "        nb = read(f, as_version=4)\n",
    "\n",
    "    ep = ExecutePreprocessor(timeout=600, kernel_name='python3')\n",
    "    ep.preprocess(nb, {'metadata': {'path': os.path.dirname(notebook_path)}, 'cell_index': cell_index})\n",
    "\n",
    "# Start the background script\n",
    "background_process = subprocess.Popen([\"python\", \"openvc.py\"])\n",
    "\n",
    "# Monitor Chrome and finish the script when it's opened\n",
    "chrome_process_name = \"chrome.exe\"  # Adjust the process name for your system\n",
    "notebook_path = \"D:\\Youtube Bot Audio\\stablediffusion.ipynb\"  # Adjust to your notebook path\n",
    "cell_index = 0  # Adjust this to the index of the cell you want to execute\n",
    "\n",
    "while True:\n",
    "    if gw.getWindowsWithTitle(\"Google Chrome\"):\n",
    "        break\n",
    "    time.sleep(10)\n",
    "\n",
    "# Continue with the rest of your code here\n"
   ]
  },
  {
   "cell_type": "code",
   "execution_count": 1,
   "metadata": {},
   "outputs": [
    {
     "ename": "ModuleNotFoundError",
     "evalue": "No module named 'rvc_infer'",
     "output_type": "error",
     "traceback": [
      "\u001b[1;31m---------------------------------------------------------------------------\u001b[0m",
      "\u001b[1;31mModuleNotFoundError\u001b[0m                       Traceback (most recent call last)",
      "\u001b[1;32md:\\Youtube Bot Audio\\voicechanger.ipynb Cell 2\u001b[0m line \u001b[0;36m1\n\u001b[1;32m----> <a href='vscode-notebook-cell:/d%3A/Youtube%20Bot%20Audio/voicechanger.ipynb#W1sZmlsZQ%3D%3D?line=0'>1</a>\u001b[0m \u001b[39mfrom\u001b[39;00m \u001b[39mrvc_infer\u001b[39;00m \u001b[39mimport\u001b[39;00m rvc_conver\n",
      "\u001b[1;31mModuleNotFoundError\u001b[0m: No module named 'rvc_infer'"
     ]
    }
   ],
   "source": [
    "from rvc_infer import rvc_conver\n"
   ]
  },
  {
   "cell_type": "code",
   "execution_count": null,
   "metadata": {},
   "outputs": [],
   "source": []
  },
  {
   "cell_type": "code",
   "execution_count": null,
   "metadata": {},
   "outputs": [],
   "source": []
  }
 ],
 "metadata": {
  "kernelspec": {
   "display_name": "Python 3",
   "language": "python",
   "name": "python3"
  },
  "language_info": {
   "codemirror_mode": {
    "name": "ipython",
    "version": 3
   },
   "file_extension": ".py",
   "mimetype": "text/x-python",
   "name": "python",
   "nbconvert_exporter": "python",
   "pygments_lexer": "ipython3",
   "version": "3.11.5"
  }
 },
 "nbformat": 4,
 "nbformat_minor": 2
}

{
 "cells": [
  {
   "cell_type": "markdown",
   "metadata": {},
   "source": [
    "Main Caption Function"
   ]
  },
  {
   "cell_type": "code",
   "execution_count": 1,
   "metadata": {
    "execution": {
     "iopub.execute_input": "2023-10-10T17:15:17.525580Z",
     "iopub.status.busy": "2023-10-10T17:15:17.525580Z",
     "iopub.status.idle": "2023-10-10T17:15:17.532960Z",
     "shell.execute_reply": "2023-10-10T17:15:17.532960Z"
    }
   },
   "outputs": [],
   "source": [
    "import subprocess\n",
    "import os\n",
    "\n",
    "# Specify the folder containing the WAV files\n",
    "wav_folder = 'D:/AfterEffectsBot/Assets/audios'  # Replace with your actual path\n",
    "\n",
    "# List all files in the folder\n",
    "wav_files = [file for file in os.listdir(wav_folder) if file.startswith('youtube_audio') and file.endswith('.wav')]\n",
    "\n",
    "# Loop through each WAV file in the folder\n",
    "for wav_file in wav_files:\n",
    "    command = f\"whisperx {os.path.join(wav_folder, wav_file)} --model medium.en --align_model WAV2VEC2_ASR_LARGE_LV60K_960H\"\n",
    "    \n",
    "    # Execute the command\n",
    "    subprocess.run(command, shell=True)\n"
   ]
  },
  {
   "cell_type": "markdown",
   "metadata": {},
   "source": [
    "JSON To Word TO word Srt"
   ]
  },
  {
   "cell_type": "code",
   "execution_count": 2,
   "metadata": {
    "execution": {
     "iopub.execute_input": "2023-10-10T17:15:17.535970Z",
     "iopub.status.busy": "2023-10-10T17:15:17.534968Z",
     "iopub.status.idle": "2023-10-10T17:15:17.542865Z",
     "shell.execute_reply": "2023-10-10T17:15:17.542865Z"
    }
   },
   "outputs": [
    {
     "name": "stdout",
     "output_type": "stream",
     "text": [
      "SRT file 'caption_of_youtube_audio1.srt' with corrected timestamps has been generated successfully in the 'D:\\Youtube Bot Audio' folder.\n",
      "SRT file 'caption_of_youtube_audio2.srt' with corrected timestamps has been generated successfully in the 'D:\\Youtube Bot Audio' folder.\n",
      "SRT file 'caption_of_youtube_audio3.srt' with corrected timestamps has been generated successfully in the 'D:\\Youtube Bot Audio' folder.\n",
      "SRT file 'caption_of_youtube_audio4.srt' with corrected timestamps has been generated successfully in the 'D:\\Youtube Bot Audio' folder.\n"
     ]
    }
   ],
   "source": [
    "import json\n",
    "import os\n",
    "\n",
    "def seconds_to_srt_time(seconds):\n",
    "    hours, remainder = divmod(seconds, 3600)\n",
    "    minutes, seconds = divmod(remainder, 60)\n",
    "    milliseconds = int((seconds - int(seconds)) * 1000)\n",
    "    return f\"{int(hours):02d}:{int(minutes):02d}:{int(seconds):02d},{milliseconds:03d}\"\n",
    "\n",
    "# Specify the folder containing the JSON files\n",
    "json_folder = 'D:\\Youtube Bot Audio'  # Replace with your actual path\n",
    "\n",
    "# Specify the destination folder for the SRT files\n",
    "output_folder = 'D:\\Youtube Bot Audio'  # Replace with your desired output path\n",
    "\n",
    "# Create the output folder if it doesn't exist\n",
    "if not os.path.exists(output_folder):\n",
    "    os.makedirs(output_folder)\n",
    "\n",
    "# List all JSON files in the folder\n",
    "json_files = [file for file in os.listdir(json_folder) if file.startswith('youtube_audio') and file.endswith('.json')]\n",
    "\n",
    "for json_file in json_files:\n",
    "    input_json_file = os.path.join(json_folder, json_file)\n",
    "    output_file_name = f'caption_of_{json_file[:-5]}.srt'\n",
    "    output_file_path = os.path.join(output_folder, output_file_name)\n",
    "\n",
    "    with open(input_json_file, \"r\", encoding=\"utf-8\") as json_file:\n",
    "        data = json.load(json_file)\n",
    "\n",
    "    segments = data[\"segments\"]\n",
    "\n",
    "    with open(output_file_path, \"w\", encoding=\"utf-8\") as srt_file:\n",
    "        word_number = 1\n",
    "        for segment in segments:\n",
    "            start_time = segment[\"start\"]\n",
    "            for word in segment[\"words\"]:\n",
    "                # Check if the \"end\" key exists in the word dictionary\n",
    "                if \"end\" in word:\n",
    "                    end_time = word[\"end\"]\n",
    "                else:\n",
    "                    # If \"end\" key is missing, assume a small duration (e.g., 0.1 seconds)\n",
    "                    end_time = start_time + 0.1\n",
    "                text = word[\"word\"]\n",
    "                srt_file.write(f\"{word_number}\\n\")\n",
    "                srt_file.write(f\"{seconds_to_srt_time(start_time)} --> {seconds_to_srt_time(end_time)}\\n\")\n",
    "                srt_file.write(f\"{text}\\n\\n\")\n",
    "                word_number += 1\n",
    "                start_time = end_time  # Update start time for the next word\n",
    "\n",
    "    print(f\"SRT file '{output_file_name}' with corrected timestamps has been generated successfully in the '{output_folder}' folder.\")\n"
   ]
  },
  {
   "cell_type": "code",
   "execution_count": 3,
   "metadata": {},
   "outputs": [],
   "source": [
    "import os\n",
    "import glob\n",
    "\n",
    "def combine_words_to_caption(input_srt_file, output_srt_file):\n",
    "    with open(input_srt_file, 'r', encoding='utf-8') as file:\n",
    "        srt_content = file.read().splitlines()\n",
    "\n",
    "    combined_srt = []\n",
    "    words = []\n",
    "    total_word_count = 0\n",
    "    timestamps = []\n",
    "    caption_index = 1\n",
    "\n",
    "    def add_caption():\n",
    "        nonlocal combined_srt, caption_index, timestamps, words\n",
    "        if timestamps and len(timestamps) > 0:\n",
    "            combined_srt.append(str(caption_index))\n",
    "            if len(timestamps) == 1:\n",
    "                combined_srt.append(timestamps[0])\n",
    "            else:\n",
    "                start_time, end_time = timestamps[0].split(\" --> \")\n",
    "                combined_srt.append(f\"{start_time} --> {end_time}\")\n",
    "            combined_srt.append(\" \".join(words))\n",
    "            combined_srt.append(\"\")\n",
    "            caption_index += 1\n",
    "        timestamps = []\n",
    "\n",
    "    for line in srt_content:\n",
    "        line = line.strip()\n",
    "        if line.isdigit():\n",
    "            add_caption()\n",
    "        elif \"-->\" in line:\n",
    "            timestamps.append(line)\n",
    "        elif line:\n",
    "            words.extend(line.split())\n",
    "            total_word_count += len(line.split())\n",
    "\n",
    "            while total_word_count >= 25:\n",
    "                add_caption()\n",
    "                words = words[25:]\n",
    "                total_word_count = len(words)\n",
    "\n",
    "    add_caption()\n",
    "\n",
    "    with open(output_srt_file, 'w', encoding='utf-8') as file:\n",
    "        file.write(\"\\n\".join(combined_srt))\n",
    "\n",
    "if __name__ == '__main__':\n",
    "    input_files = glob.glob('caption_of_youtube_audio*.srt')\n",
    "    for input_srt_file in input_files:\n",
    "        output_srt_file = f'output_combined_with_timestamps_{os.path.basename(input_srt_file)}'\n",
    "        combine_words_to_caption(input_srt_file, output_srt_file)\n"
   ]
  },
  {
   "cell_type": "code",
   "execution_count": 4,
   "metadata": {},
   "outputs": [
    {
     "name": "stdout",
     "output_type": "stream",
     "text": [
      "Modified SRT file saved to modified_output_combined_with_timestamps_caption_of_youtube_audio1.srt\n",
      "Modified SRT file saved to modified_output_combined_with_timestamps_caption_of_youtube_audio2.srt\n",
      "Modified SRT file saved to modified_output_combined_with_timestamps_caption_of_youtube_audio3.srt\n",
      "Modified SRT file saved to modified_output_combined_with_timestamps_caption_of_youtube_audio4.srt\n"
     ]
    }
   ],
   "source": [
    "import os\n",
    "import glob\n",
    "\n",
    "def modify_srt_file(input_file, output_file):\n",
    "    with open(input_file, 'r', encoding='utf-8') as input_srt:\n",
    "        lines = input_srt.readlines()\n",
    "\n",
    "    modified_lines = []\n",
    "    captions = []\n",
    "\n",
    "    for line in lines:\n",
    "        if line.strip():\n",
    "            captions.append(line.strip())\n",
    "        else:\n",
    "            if captions:\n",
    "                modified_lines.append(captions)\n",
    "            captions = []\n",
    "\n",
    "    for i in range(len(modified_lines) - 1):\n",
    "        captions = modified_lines[i]\n",
    "        next_captions = modified_lines[i + 1]\n",
    "\n",
    "        if len(captions) == 3 and len(next_captions) == 3:\n",
    "            start_time = captions[1].split(\" --> \")[0]\n",
    "            end_time = next_captions[1].split(\" --> \")[0]\n",
    "\n",
    "            modified_lines[i][1] = f\"{start_time} --> {end_time}\"\n",
    "\n",
    "    with open(output_file, 'w', encoding='utf-8') as output_srt:\n",
    "        for captions in modified_lines:\n",
    "            output_srt.write('\\n'.join(captions) + '\\n\\n')  # Add an extra newline to separate captions\n",
    "\n",
    "if __name__ == \"__main__\":\n",
    "    input_files = glob.glob('output_combined_with_timestamps_caption_of_youtube_audio*.srt')\n",
    "    for input_srt_file in input_files:\n",
    "        output_srt_file = f'modified_{os.path.basename(input_srt_file)}'\n",
    "        modify_srt_file(input_srt_file, output_srt_file)\n",
    "        print(f\"Modified SRT file saved to {output_srt_file}\")\n"
   ]
  },
  {
   "cell_type": "code",
   "execution_count": 5,
   "metadata": {},
   "outputs": [],
   "source": [
    "import os\n",
    "import glob\n",
    "\n",
    "def insert_line_breaks(input_srt_file, output_folder, output_index):\n",
    "    with open(input_srt_file, 'r', encoding='utf-8') as file:\n",
    "        srt_content = file.read()\n",
    "\n",
    "    modified_srt = \"\"\n",
    "    captions = srt_content.strip().split('\\n\\n')  # Split captions\n",
    "    for caption in captions:\n",
    "        lines = caption.split('\\n')\n",
    "        if len(lines) >= 3:\n",
    "            caption_number, time_info, text = lines[0], lines[1], lines[2:]\n",
    "            words = text[0].split()  # Split the text into words\n",
    "            first_line = ' '.join(words[:8])  # First line with 8 words\n",
    "            if len(words) > 8:\n",
    "                second_line = ' '.join(words[8:17])  # Second line with 9 words if available\n",
    "                third_line = ' '.join(words[17:])  # Third line with the remaining words\n",
    "            else:\n",
    "                second_line = ' '.join(words[8:])  # Use the remaining words for the second line\n",
    "                third_line = ''  # No third line\n",
    "            new_lines = [caption_number, time_info, first_line, second_line, third_line] + text[1:]  # Retain other lines\n",
    "            modified_srt += '\\n'.join(new_lines) + '\\n\\n'\n",
    "        else:\n",
    "            modified_srt += caption + '\\n\\n'  # Retain captions with less than 3 lines\n",
    "\n",
    "    output_file = f'caption_of_youtube_audio{output_index}.srt'\n",
    "    output_srt_file = os.path.join(output_folder, output_file)\n",
    "\n",
    "    with open(output_srt_file, 'w', encoding='utf-8') as file:\n",
    "        file.write(modified_srt)\n",
    "\n",
    "if __name__ == '__main__':\n",
    "    input_files = glob.glob('modified_output_combined_with_timestamps_caption_of_youtube_audio*.srt')\n",
    "    output_folder = r'D:\\AfterEffectsBot\\Assets\\\\captions'\n",
    "    output_index = 1\n",
    "    for input_srt_file in input_files:\n",
    "        insert_line_breaks(input_srt_file, output_folder, output_index)\n",
    "        output_index += 1\n"
   ]
  },
  {
   "cell_type": "code",
   "execution_count": 6,
   "metadata": {},
   "outputs": [
    {
     "name": "stdout",
     "output_type": "stream",
     "text": [
      "SRT file 'caption_of_youtube_audio1.srt' has been deleted.\n",
      "SRT file 'caption_of_youtube_audio2.srt' has been deleted.\n",
      "SRT file 'caption_of_youtube_audio3.srt' has been deleted.\n",
      "SRT file 'caption_of_youtube_audio4.srt' has been deleted.\n",
      "SRT file 'modified_output_combined_with_timestamps_caption_of_youtube_audio1.srt' has been deleted.\n",
      "SRT file 'modified_output_combined_with_timestamps_caption_of_youtube_audio2.srt' has been deleted.\n",
      "SRT file 'modified_output_combined_with_timestamps_caption_of_youtube_audio3.srt' has been deleted.\n",
      "SRT file 'modified_output_combined_with_timestamps_caption_of_youtube_audio4.srt' has been deleted.\n",
      "SRT file 'output_combined_with_timestamps_caption_of_youtube_audio1.srt' has been deleted.\n",
      "SRT file 'output_combined_with_timestamps_caption_of_youtube_audio2.srt' has been deleted.\n",
      "SRT file 'output_combined_with_timestamps_caption_of_youtube_audio3.srt' has been deleted.\n",
      "SRT file 'output_combined_with_timestamps_caption_of_youtube_audio4.srt' has been deleted.\n",
      "SRT file 'youtube_audio1.srt' has been deleted.\n",
      "SRT file 'youtube_audio2.srt' has been deleted.\n",
      "SRT file 'youtube_audio3.srt' has been deleted.\n",
      "SRT file 'youtube_audio4.srt' has been deleted.\n",
      "File 'youtube_audio1.json' has been deleted.\n",
      "File 'youtube_audio1.tsv' has been deleted.\n",
      "File 'youtube_audio1.txt' has been deleted.\n",
      "File 'youtube_audio1.vtt' has been deleted.\n",
      "File 'youtube_audio2.json' has been deleted.\n",
      "File 'youtube_audio2.tsv' has been deleted.\n",
      "File 'youtube_audio2.txt' has been deleted.\n",
      "File 'youtube_audio2.vtt' has been deleted.\n",
      "File 'youtube_audio3.json' has been deleted.\n",
      "File 'youtube_audio3.tsv' has been deleted.\n",
      "File 'youtube_audio3.txt' has been deleted.\n",
      "File 'youtube_audio3.vtt' has been deleted.\n",
      "File 'youtube_audio4.json' has been deleted.\n",
      "File 'youtube_audio4.tsv' has been deleted.\n",
      "File 'youtube_audio4.txt' has been deleted.\n",
      "File 'youtube_audio4.vtt' has been deleted.\n"
     ]
    }
   ],
   "source": [
    "import os\n",
    "\n",
    "# Specify the folder containing the files\n",
    "folder = 'D:\\Youtube Bot Audio'  # Replace with your actual path\n",
    "\n",
    "# List all SRT files in the folder\n",
    "srt_files = [file for file in os.listdir(folder) if file.lower().endswith('.srt')]\n",
    "\n",
    "# Delete SRT files\n",
    "for srt_file in srt_files:\n",
    "    srt_file_path = os.path.join(folder, srt_file)\n",
    "    os.remove(srt_file_path)\n",
    "    print(f\"SRT file '{srt_file}' has been deleted.\")\n",
    "\n",
    "# List all files starting with \"youtube_audio\" in the folder\n",
    "youtube_audio_files = [file for file in os.listdir(folder) if file.startswith('youtube_audio')]\n",
    "\n",
    "# Delete files starting with \"youtube_audio\"\n",
    "for youtube_audio_file in youtube_audio_files:\n",
    "    youtube_audio_file_path = os.path.join(folder, youtube_audio_file)\n",
    "    os.remove(youtube_audio_file_path)\n",
    "    print(f\"File '{youtube_audio_file}' has been deleted.\")\n"
   ]
  },
  {
   "cell_type": "code",
   "execution_count": 7,
   "metadata": {},
   "outputs": [
    {
     "ename": "",
     "evalue": "",
     "output_type": "error",
     "traceback": [
      "\u001b[1;31mThe Kernel crashed while executing code in the the current cell or a previous cell. Please review the code in the cell(s) to identify a possible cause of the failure. Click <a href='https://aka.ms/vscodeJupyterKernelCrash'>here</a> for more info. View Jupyter <a href='command:jupyter.viewOutput'>log</a> for further details."
     ]
    }
   ],
   "source": [
    "import subprocess\n",
    "\n",
    "# Specify the path to the text file\n",
    "file_path = \"most_viewed_articles.txt\"  # Replace with the actual path\n",
    "\n",
    "try:\n",
    "    subprocess.Popen([\"notepad.exe\", file_path])\n",
    "except FileNotFoundError:\n",
    "    print(f\"File not found at '{file_path}'.\")\n",
    "except Exception as e:\n",
    "    print(f\"An error occurred: {e}\")\n"
   ]
  }
 ],
 "metadata": {
  "kernelspec": {
   "display_name": "Python 3",
   "language": "python",
   "name": "python3"
  },
  "language_info": {
   "codemirror_mode": {
    "name": "ipython",
    "version": 3
   },
   "file_extension": ".py",
   "mimetype": "text/x-python",
   "name": "python",
   "nbconvert_exporter": "python",
   "pygments_lexer": "ipython3",
   "version": "3.11.5"
  }
 },
 "nbformat": 4,
 "nbformat_minor": 2
}

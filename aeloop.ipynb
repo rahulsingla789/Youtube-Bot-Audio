{
 "cells": [
  {
   "cell_type": "code",
   "execution_count": 1,
   "metadata": {},
   "outputs": [
    {
     "name": "stdout",
     "output_type": "stream",
     "text": [
      "Text file opened because there are 4 .mp4 files in the folder.\n"
     ]
    }
   ],
   "source": [
    "import os\n",
    "import subprocess\n",
    "\n",
    "folder_path = \"D:\\AfterEffectsBot\\\\aebot_AME\"  # Replace with the path to your folder\n",
    "file_extension = \".mp4\"\n",
    "text_file = \"D:\\Youtube Bot Audio\\most_viewed_articles.txt\"  # Replace with the path to your text file\n",
    "\n",
    "while True:\n",
    "    mp4_files = [f for f in os.listdir(folder_path) if f.endswith(file_extension)]\n",
    "    \n",
    "    if len(mp4_files) == 4:\n",
    "        subprocess.Popen([\"notepad.exe\", text_file])  # Open the text file using Notepad\n",
    "        print(\"Text file opened because there are 4 .mp4 files in the folder.\")\n",
    "        break  # Exit the loop once the text file is open\n"
   ]
  },
  {
   "cell_type": "code",
   "execution_count": 2,
   "metadata": {},
   "outputs": [
    {
     "name": "stdout",
     "output_type": "stream",
     "text": [
      "Moved D:\\AfterEffectsBot\\aebot_AME\\Composition 1.mp4 to D:\\AfterEffectsBot\\output\\youtube_video1.mp4\n",
      "Moved D:\\AfterEffectsBot\\aebot_AME\\Composition 2.mp4 to D:\\AfterEffectsBot\\output\\youtube_video2.mp4\n",
      "Moved D:\\AfterEffectsBot\\aebot_AME\\Composition 3.mp4 to D:\\AfterEffectsBot\\output\\youtube_video3.mp4\n",
      "Moved D:\\AfterEffectsBot\\aebot_AME\\Composition 4.mp4 to D:\\AfterEffectsBot\\output\\youtube_video4.mp4\n",
      "Deleted D:\\AfterEffectsBot\\aebot_AME\\tmpAEtoAMEProject-Composition 1.aep\n",
      "Deleted D:\\AfterEffectsBot\\aebot_AME\\tmpAEtoAMEProject-Composition 2.aep\n",
      "Deleted D:\\AfterEffectsBot\\aebot_AME\\tmpAEtoAMEProject-Composition 3.aep\n",
      "Deleted D:\\AfterEffectsBot\\aebot_AME\\tmpAEtoAMEProject-Composition 4.aep\n"
     ]
    }
   ],
   "source": [
    "import os\n",
    "import shutil\n",
    "import time\n",
    "\n",
    "time.sleep(10)\n",
    "\n",
    "source_folder = \"D:\\\\AfterEffectsBot\\\\aebot_AME\"  # Source folder with .mp4 files\n",
    "output_folder = \"D:\\\\AfterEffectsBot\\\\output\"  # Specify the output folder\n",
    "file_extension = \".mp4\"\n",
    "output_base_name = \"youtube_video\"\n",
    "counter = 1\n",
    "\n",
    "# Ensure the output folder exists, create it if necessary\n",
    "if not os.path.exists(output_folder):\n",
    "    os.makedirs(output_folder)\n",
    "\n",
    "for root, _, files in os.walk(source_folder):\n",
    "    for file in files:\n",
    "        if file.endswith(file_extension):\n",
    "            source_file = os.path.join(root, file)\n",
    "            destination_file = os.path.join(output_folder, f\"{output_base_name}{counter}.mp4\")\n",
    "            counter += 1\n",
    "\n",
    "            # Check if the destination file already exists, avoid overwriting\n",
    "            while os.path.exists(destination_file):\n",
    "                destination_file = os.path.join(output_folder, f\"{output_base_name}{counter}.mp4\")\n",
    "                counter += 1\n",
    "\n",
    "            shutil.move(source_file, destination_file)\n",
    "            print(f\"Moved {source_file} to {destination_file}\")\n",
    "\n",
    "# Delete any remaining files in the source folder (non-.mp4 files)\n",
    "for root, _, files in os.walk(source_folder):\n",
    "    for file in files:\n",
    "        file_path = os.path.join(root, file)\n",
    "        if not file_path.endswith(file_extension):\n",
    "            os.remove(file_path)\n",
    "            print(f\"Deleted {file_path}\")\n"
   ]
  },
  {
   "cell_type": "code",
   "execution_count": 3,
   "metadata": {},
   "outputs": [
    {
     "name": "stdout",
     "output_type": "stream",
     "text": [
      "Deleted file: D:\\AfterEffectsBot\\Assets\\audios\\youtube_audio1.wav\n",
      "Deleted file: D:\\AfterEffectsBot\\Assets\\audios\\youtube_audio2.wav\n",
      "Deleted file: D:\\AfterEffectsBot\\Assets\\audios\\youtube_audio3.wav\n",
      "Deleted file: D:\\AfterEffectsBot\\Assets\\audios\\youtube_audio4.wav\n",
      "Deleted file: D:\\AfterEffectsBot\\Assets\\captions\\caption_of_youtube_audio1.srt\n",
      "Deleted file: D:\\AfterEffectsBot\\Assets\\captions\\caption_of_youtube_audio2.srt\n",
      "Deleted file: D:\\AfterEffectsBot\\Assets\\captions\\caption_of_youtube_audio3.srt\n",
      "Deleted file: D:\\AfterEffectsBot\\Assets\\captions\\caption_of_youtube_audio4.srt\n",
      "Deleted file: D:\\AfterEffectsBot\\Assets\\descaled images\\output1.png\n",
      "Deleted file: D:\\AfterEffectsBot\\Assets\\descaled images\\output2.png\n",
      "Deleted file: D:\\AfterEffectsBot\\Assets\\descaled images\\output3.png\n",
      "Deleted file: D:\\AfterEffectsBot\\Assets\\descaled images\\output4.png\n",
      "Deleted file: D:\\AfterEffectsBot\\Assets\\photos\\photo1.png\n",
      "Deleted file: D:\\AfterEffectsBot\\Assets\\photos\\photo2.png\n",
      "Deleted file: D:\\AfterEffectsBot\\Assets\\photos\\photo3.png\n",
      "Deleted file: D:\\AfterEffectsBot\\Assets\\photos\\photo4.png\n"
     ]
    }
   ],
   "source": [
    "import os\n",
    "import shutil\n",
    "\n",
    "folders_to_delete = [\n",
    "    \"D:\\\\AfterEffectsBot\\\\Assets\\\\audios\",\n",
    "    \"D:\\\\AfterEffectsBot\\\\Assets\\\\captions\",\n",
    "    \"D:\\\\AfterEffectsBot\\\\Assets\\\\descaled images\",\n",
    "    \"D:\\\\AfterEffectsBot\\\\Assets\\\\photos\"\n",
    "]\n",
    "\n",
    "def delete_folder_contents(folder_path):\n",
    "    try:\n",
    "        for root, dirs, files in os.walk(folder_path):\n",
    "            for file in files:\n",
    "                file_path = os.path.join(root, file)\n",
    "                os.remove(file_path)\n",
    "                print(f\"Deleted file: {file_path}\")\n",
    "            for dir in dirs:\n",
    "                dir_path = os.path.join(root, dir)\n",
    "                shutil.rmtree(dir_path)\n",
    "                print(f\"Deleted folder: {dir_path}\")\n",
    "    except Exception as e:\n",
    "        print(f\"Error while deleting: {e}\")\n",
    "\n",
    "for folder in folders_to_delete:\n",
    "    if os.path.exists(folder):\n",
    "        delete_folder_contents(folder)\n",
    "    else:\n",
    "        print(f\"Folder not found: {folder}\")\n"
   ]
  }
 ],
 "metadata": {
  "kernelspec": {
   "display_name": "Python 3",
   "language": "python",
   "name": "python3"
  },
  "language_info": {
   "codemirror_mode": {
    "name": "ipython",
    "version": 3
   },
   "file_extension": ".py",
   "mimetype": "text/x-python",
   "name": "python",
   "nbconvert_exporter": "python",
   "pygments_lexer": "ipython3",
   "version": "3.11.5"
  }
 },
 "nbformat": 4,
 "nbformat_minor": 2
}
